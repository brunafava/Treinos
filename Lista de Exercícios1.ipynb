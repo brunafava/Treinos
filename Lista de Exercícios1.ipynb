{
 "cells": [
  {
   "cell_type": "code",
   "execution_count": 19,
   "id": "95bb2f6f-b155-4758-ab93-f310bce9d314",
   "metadata": {},
   "outputs": [
    {
     "name": "stdin",
     "output_type": "stream",
     "text": [
      "Digite um número:  -3\n"
     ]
    },
    {
     "name": "stdout",
     "output_type": "stream",
     "text": [
      "É um número ímpar e negativo\n"
     ]
    }
   ],
   "source": [
    "#Faça um algoritmo para ter um número e mostrar se ele é par ou ímpar, positivo ou negativo:\n",
    "\n",
    "num = int(input(\"Digite um número: \"))\n",
    "\n",
    "if num % 2 == 0 and num > 0:\n",
    "    print(\"É um número par e positivo\")\n",
    "elif num % 2 == 0 and num < 0:\n",
    "    print(\"É um número par e negativo\")\n",
    "elif num % 2 != 0 and num > 0:\n",
    "    print(\"É um número ímpar e positivo\")\n",
    "else:\n",
    "    print(\"É um número ímpar e negativo\")"
   ]
  },
  {
   "cell_type": "code",
   "execution_count": 23,
   "id": "8599ca51-8a35-4a3c-8b54-aea46b576843",
   "metadata": {},
   "outputs": [
    {
     "name": "stdin",
     "output_type": "stream",
     "text": [
      "Digite um número:  6\n",
      "Digite um número:  5\n"
     ]
    },
    {
     "name": "stdout",
     "output_type": "stream",
     "text": [
      "6\n"
     ]
    }
   ],
   "source": [
    "#Faça um Programa que peça dois número e imprima o maior deles:\n",
    "\n",
    "num1 = int(input(\"Digite um número: \"))\n",
    "num2 = int(input(\"Digite um número: \"))\n",
    "\n",
    "if num1 > num2:\n",
    "    print(num1)\n",
    "else:\n",
    "    print(num2)"
   ]
  },
  {
   "cell_type": "code",
   "execution_count": 27,
   "id": "1d14029e-b370-4f21-be04-21ff4bc81819",
   "metadata": {},
   "outputs": [
    {
     "name": "stdin",
     "output_type": "stream",
     "text": [
      "Digite um número:  -6\n"
     ]
    },
    {
     "name": "stdout",
     "output_type": "stream",
     "text": [
      "Esse número é negativo\n"
     ]
    }
   ],
   "source": [
    "#Faça um Programa que peça um valor e mostre na tela se o valor é positivo ou negativo:\n",
    "\n",
    "num = int(input(\"Digite um número: \"))\n",
    "\n",
    "if num > 0:\n",
    "    print(\"Esse número é positivo\")\n",
    "else:\n",
    "    print(\"Esse número é negativo\")"
   ]
  },
  {
   "cell_type": "code",
   "execution_count": 47,
   "id": "bfbe6545-a126-4598-9fc9-4a9b89ba2c19",
   "metadata": {},
   "outputs": [
    {
     "name": "stdin",
     "output_type": "stream",
     "text": [
      "Digite uma letra:  j\n"
     ]
    },
    {
     "name": "stdout",
     "output_type": "stream",
     "text": [
      "Essa letra é uma consoante\n"
     ]
    }
   ],
   "source": [
    "#Faça um Programa que verifique se a letra digitada é vogal ou consoante:\n",
    "\n",
    "letra = str(input(\"Digite uma letra: \"))\n",
    "vogais = \"aeiou\"\n",
    "\n",
    "if letra in vogais:\n",
    "    print(\"Essa letra é uma vogal\")\n",
    "else:\n",
    "    print(\"Essa letra é uma consoante\")"
   ]
  },
  {
   "cell_type": "code",
   "execution_count": 57,
   "id": "7dfeab3e-31d5-4edf-89c2-551be234af65",
   "metadata": {},
   "outputs": [
    {
     "name": "stdin",
     "output_type": "stream",
     "text": [
      "Digite a 1º nota:  9\n",
      "Digite a 2º nota:  10\n"
     ]
    },
    {
     "name": "stdout",
     "output_type": "stream",
     "text": [
      "Aprovado 9.5\n"
     ]
    }
   ],
   "source": [
    "#Faça um Programa para a leitura de duas notas parciais de um aluno. O programa deve calcular a média alcançada por aluno e apresentar:\n",
    "    # a) A mensagem \"Aprovado\", se a média alcançada for maior ou igual a sete\n",
    "    # B) A mensagem \"Reprovado\", se a média for menor que sete\n",
    "    # c) A mensagem \"Aprovado com distinção\", se a média for igual a dez\n",
    "\n",
    "nota1 = float(input(\"Digite a 1º nota: \"))\n",
    "nota2 = float(input(\"Digite a 2º nota: \"))\n",
    "media = (nota1 + nota2) / 2 \n",
    "\n",
    "if media >= 7 and media < 10:\n",
    "    print(\"Aprovado\", media)\n",
    "elif media < 7:\n",
    "    print(\"Reprovado\", media)\n",
    "else:\n",
    "    print(\"Aprovado com distinção\", media)    "
   ]
  },
  {
   "cell_type": "code",
   "execution_count": 61,
   "id": "a63e33cc-55c7-4e4b-9682-602a4b46197b",
   "metadata": {},
   "outputs": [
    {
     "name": "stdin",
     "output_type": "stream",
     "text": [
      "Digite o 1º preço:  7\n",
      "Digite o 2º preço:  3\n",
      "Digite o 3º preço:  10\n"
     ]
    },
    {
     "name": "stdout",
     "output_type": "stream",
     "text": [
      "O produto de 3.0 reais, é o que mais compensa\n"
     ]
    }
   ],
   "source": [
    "#Faça um Programa que pergunte o preço de três produtos e informe qual o produto você deve comprar, sabendo que a decisão é sempre pelo mais barato:\n",
    "\n",
    "prod1 = float(input(\"Digite o 1º preço: \"))\n",
    "prod2 = float(input(\"Digite o 2º preço: \"))\n",
    "prod3 = float(input(\"Digite o 3º preço: \"))\n",
    "valores = [prod1,prod2,prod3]\n",
    "\n",
    "barato = min(valores)\n",
    "print(\"O produto de\",barato,\"reais, é o que mais compensa\")"
   ]
  },
  {
   "cell_type": "code",
   "execution_count": 1,
   "id": "41966244-4805-49e5-b02d-ce206e5a0f1b",
   "metadata": {},
   "outputs": [
    {
     "name": "stdin",
     "output_type": "stream",
     "text": [
      "Digite o 1º número:  -7\n",
      "Digite o 2º número:  -5\n",
      "Digite o 3º número:  -1\n"
     ]
    },
    {
     "name": "stdout",
     "output_type": "stream",
     "text": [
      "Esses são os números em ordem decrescente:  [-1, -5, -7]\n"
     ]
    }
   ],
   "source": [
    "#Faça um Programa que leia 3 números e mostre-os em ordem decrescente:\n",
    "\n",
    "num1 = int(input(\"Digite o 1º número: \"))\n",
    "num2 = int(input(\"Digite o 2º número: \"))\n",
    "num3 = int(input(\"Digite o 3º número: \"))\n",
    "numeros = [num1,num2,num3]\n",
    "\n",
    "numeros.sort(reverse=True)\n",
    "\n",
    "print(\"Esses são os números em ordem decrescente: \",numeros)\n"
   ]
  },
  {
   "cell_type": "code",
   "execution_count": 25,
   "id": "603f26e4-1d8f-47d0-87b7-b6b3f40e0c55",
   "metadata": {},
   "outputs": [
    {
     "name": "stdin",
     "output_type": "stream",
     "text": [
      "Em qual turno você estuda:  M\n"
     ]
    },
    {
     "name": "stdout",
     "output_type": "stream",
     "text": [
      "Bom dia!\n"
     ]
    }
   ],
   "source": [
    "# Faça um Programa que pergunte em que turno você estuda. Peça para digitar M-matutino, V-vespertino ou N-noturno. Imprima a mensagem \"Bom dia!\", \"Boa tarde!\", \"Boa noite!\" ou \"Valor inválido\", conforme o caso:\n",
    "\n",
    "turno = str(input(\"Em qual turno você estuda: \"))\n",
    "hora = turno.upper()\n",
    "\n",
    "if hora == 'M':\n",
    "    print(\"Bom dia!\")\n",
    "elif hora == 'V':\n",
    "    print(\"Boa tarde!\")\n",
    "elif hora == 'N':\n",
    "    print(\"Boa noite!\")\n",
    "else:\n",
    "    print(\"Valor inválido\")"
   ]
  },
  {
   "cell_type": "code",
   "execution_count": 50,
   "id": "3360e071-8fce-437e-93b7-50c91afc1c9e",
   "metadata": {},
   "outputs": [
    {
     "name": "stdin",
     "output_type": "stream",
     "text": [
      "Digite o seu salário:  128.90\n"
     ]
    },
    {
     "name": "stdout",
     "output_type": "stream",
     "text": [
      "Seu salário é: 128.9 ; Seu aumento é: 0.2 ; Seu aumento é: 25.78 ; E o seu novo salário é: 154.68\n"
     ]
    }
   ],
   "source": [
    "# As organizações Tabajara resolveram dar um aumento de salário aos seus colaboradores e lhe contratam para desenvolver o programa que calculará os reajustes.\n",
    "    # a) Faça um programa que recebe o salário de um colaborador e o reajuste segundo o seguinte critério:\n",
    "        # 1. Salários até R$280,00: aumento de 20%;\n",
    "        # 2. Salários entre R$280,00 e R$700,00: aumento de 15%;\n",
    "        # 3. Salários entre R$700,00 e R$1.500,00: aumento de 10%;\n",
    "        # 4. Salários maiores de R$1.500,00: Aumento de 5%.\n",
    "    # b) Após o aumento, informar na tela: salário antes do reajuste; o percentual do aumento a ser aplicado; o valor do aumento; e o novo salário.\n",
    "\n",
    "sal = float(input(\"Digite o seu salário: \"))\n",
    "aum1 = 0.2\n",
    "aum2 = 0.15\n",
    "aum3 = 0.1\n",
    "aum4 = 0.05\n",
    "\n",
    "if sal <= 280:\n",
    "    ajuste1 = sal * aum1\n",
    "    new_sal = sal + ajuste1\n",
    "    print(\"Seu salário é:\",sal,\"; Seu aumento é:\",aum1,\"; Seu aumento é:\",ajuste1,\"; E o seu novo salário é:\",new_sal)\n",
    "elif sal > 280 and sal <= 700:\n",
    "    ajuste2 = sal * aum2\n",
    "    new_sal = sal + ajuste2\n",
    "    print(\"Seu salário é:\",sal,\"; Seu aumento é:\",aum2,\"; Seu aumento é:\",ajuste2,\"; E o seu novo salário é:\",new_sal)\n",
    "elif sal > 700 and sal <= 1500:\n",
    "    ajuste3 = sal * aum3\n",
    "    new_sal = sal + ajuste3\n",
    "    print(\"Seu salário é:\",sal,\"; Seu aumento é:\",aum3,\"; Seu aumento é:\",ajuste3,\"; E o seu novo salário é:\",new_sal)\n",
    "elif sal > 1500: \n",
    "    ajuste4 = sal * aum4\n",
    "    new_sal = sal + ajuste4\n",
    "    print(\"Seu salário é:\",sal,\"; Seu aumento é:\",aum4,\"; Seu aumento é:\",ajuste4,\"; E o seu novo salário é:\",new_sal)"
   ]
  },
  {
   "cell_type": "code",
   "execution_count": null,
   "id": "68ced192-3ff1-4358-9914-ffc9712ff904",
   "metadata": {},
   "outputs": [],
   "source": [
    "# Faça um programa para o cálculo de uma folha de pagamento, sabendo que os descontos são do Imposto de Renda, que depende do salário bruto, 3% para o Sindicato e que o FGTS corresponde a 11% do Salário Bruto, mas não é descontado (é a empresa que deposita). O Salário Líquido corresponde ao Salário Bruto menos os descontos. O programa deverá pedir ao usuário o valor da sua hora e a quantidade de horas trabalhadas no mês.\n",
    "    # a. Desconto do IR:\n",
    "        # 1. Salário Bruto até 900 (inclusive) - isento;\n",
    "        # 2. Salário Bruto até 1500 (inclusive) - desconto de 5%;\n",
    "        # 3. Salário Bruto até 2500 (inclusive) - desconto de 10%;\n",
    "        # 4. Salário Bruto acima de 2500 - desconto de 20%. Imprima na tela as informações.\n",
    "\n",
    "sal_hora = float(input(\"Digite qual o seu salário por hora: \"))\n",
    "horas = float(input(\"Digite quantas horas você trabalha por mês: \"))\n",
    "sal_bruto = sal_hora * horas\n",
    "ir1 = 0.05\n",
    "ir2 = 0.1\n",
    "ir3 = 0.2\n",
    "sindicato = sal_bruto * 0.03\n",
    "inss = sal_bruto *0.1\n",
    "fgts = sal_bruto * 0.11\n",
    "total = sindicato + inss + ir\n",
    "\n",
    "if sal_bruto <= 900:\n",
    "    ir = 'Isento de IR'\n",
    "    sal_liq = sal_bruto - total\n",
    "    print(\"Seu salário bruto é:\",sal_bruto,\"; Seu IR é:\",ir,\"; \n",
    "    "
   ]
  },
  {
   "cell_type": "code",
   "execution_count": 40,
   "id": "4955d81b-5f7a-443f-9e38-e87529a0b597",
   "metadata": {},
   "outputs": [
    {
     "name": "stdin",
     "output_type": "stream",
     "text": [
      "Digite o seu salário:  1550\n"
     ]
    },
    {
     "name": "stdout",
     "output_type": "stream",
     "text": [
      "Seu salário é: 1550.0 ; Seu aumento é: 0.05 ; Seu aumento é: 77.5 ; E o seu novo salário é: 1627.5\n"
     ]
    }
   ],
   "source": []
  },
  {
   "cell_type": "code",
   "execution_count": null,
   "id": "1096049e-4f06-4dfd-8d75-ad13537f4b2d",
   "metadata": {},
   "outputs": [],
   "source": []
  }
 ],
 "metadata": {
  "kernelspec": {
   "display_name": "Python [conda env:base] *",
   "language": "python",
   "name": "conda-base-py"
  },
  "language_info": {
   "codemirror_mode": {
    "name": "ipython",
    "version": 3
   },
   "file_extension": ".py",
   "mimetype": "text/x-python",
   "name": "python",
   "nbconvert_exporter": "python",
   "pygments_lexer": "ipython3",
   "version": "3.12.7"
  }
 },
 "nbformat": 4,
 "nbformat_minor": 5
}
