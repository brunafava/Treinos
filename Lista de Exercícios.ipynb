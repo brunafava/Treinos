{
 "cells": [
  {
   "cell_type": "code",
   "execution_count": 19,
   "id": "95bb2f6f-b155-4758-ab93-f310bce9d314",
   "metadata": {},
   "outputs": [
    {
     "name": "stdin",
     "output_type": "stream",
     "text": [
      "Digite um número:  -3\n"
     ]
    },
    {
     "name": "stdout",
     "output_type": "stream",
     "text": [
      "É um número ímpar e negativo\n"
     ]
    }
   ],
   "source": [
    "#Faça um algoritmo para ter um número e mostrar se ele é par ou ímpar, positivo ou negativo:\n",
    "\n",
    "num = int(input(\"Digite um número: \"))\n",
    "\n",
    "if num % 2 == 0 and num > 0:\n",
    "    print(\"É um número par e positivo\")\n",
    "elif num % 2 == 0 and num < 0:\n",
    "    print(\"É um número par e negativo\")\n",
    "elif num % 2 != 0 and num > 0:\n",
    "    print(\"É um número ímpar e positivo\")\n",
    "else:\n",
    "    print(\"É um número ímpar e negativo\")"
   ]
  },
  {
   "cell_type": "code",
   "execution_count": 23,
   "id": "8599ca51-8a35-4a3c-8b54-aea46b576843",
   "metadata": {},
   "outputs": [
    {
     "name": "stdin",
     "output_type": "stream",
     "text": [
      "Digite um número:  6\n",
      "Digite um número:  5\n"
     ]
    },
    {
     "name": "stdout",
     "output_type": "stream",
     "text": [
      "6\n"
     ]
    }
   ],
   "source": [
    "#Faça um Programa que peça dois número e imprima o maior deles:\n",
    "\n",
    "num1 = int(input(\"Digite um número: \"))\n",
    "num2 = int(input(\"Digite um número: \"))\n",
    "\n",
    "if num1 > num2:\n",
    "    print(num1)\n",
    "else:\n",
    "    print(num2)"
   ]
  },
  {
   "cell_type": "code",
   "execution_count": 27,
   "id": "1d14029e-b370-4f21-be04-21ff4bc81819",
   "metadata": {},
   "outputs": [
    {
     "name": "stdin",
     "output_type": "stream",
     "text": [
      "Digite um número:  -6\n"
     ]
    },
    {
     "name": "stdout",
     "output_type": "stream",
     "text": [
      "Esse número é negativo\n"
     ]
    }
   ],
   "source": [
    "#Faça um Programa que peça um valor e mostre na tela se o valor é positivo ou negativo:\n",
    "\n",
    "num = int(input(\"Digite um número: \"))\n",
    "\n",
    "if num > 0:\n",
    "    print(\"Esse número é positivo\")\n",
    "else:\n",
    "    print(\"Esse número é negativo\")"
   ]
  },
  {
   "cell_type": "code",
   "execution_count": 47,
   "id": "bfbe6545-a126-4598-9fc9-4a9b89ba2c19",
   "metadata": {},
   "outputs": [
    {
     "name": "stdin",
     "output_type": "stream",
     "text": [
      "Digite uma letra:  j\n"
     ]
    },
    {
     "name": "stdout",
     "output_type": "stream",
     "text": [
      "Essa letra é uma consoante\n"
     ]
    }
   ],
   "source": [
    "#Faça um Programa que verifique se a letra digitada é vogal ou consoante:\n",
    "\n",
    "letra = str(input(\"Digite uma letra: \"))\n",
    "vogais = \"aeiou\"\n",
    "\n",
    "if letra in vogais:\n",
    "    print(\"Essa letra é uma vogal\")\n",
    "else:\n",
    "    print(\"Essa letra é uma consoante\")"
   ]
  },
  {
   "cell_type": "code",
   "execution_count": 57,
   "id": "7dfeab3e-31d5-4edf-89c2-551be234af65",
   "metadata": {},
   "outputs": [
    {
     "name": "stdin",
     "output_type": "stream",
     "text": [
      "Digite a 1º nota:  9\n",
      "Digite a 2º nota:  10\n"
     ]
    },
    {
     "name": "stdout",
     "output_type": "stream",
     "text": [
      "Aprovado 9.5\n"
     ]
    }
   ],
   "source": [
    "#Faça um Programa para a leitura de duas notas parciais de um aluno. O programa deve calcular a média alcançada por aluno e apresentar:\n",
    "    # a) A mensagem \"Aprovado\", se a média alcançada for maior ou igual a sete\n",
    "    # B) A mensagem \"Reprovado\", se a média for menor que sete\n",
    "    # c) A mensagem \"Aprovado com distinção\", se a média for igual a dez\n",
    "\n",
    "nota1 = float(input(\"Digite a 1º nota: \"))\n",
    "nota2 = float(input(\"Digite a 2º nota: \"))\n",
    "media = (nota1 + nota2) / 2 \n",
    "\n",
    "if media >= 7 and media < 10:\n",
    "    print(\"Aprovado\", media)\n",
    "elif media < 7:\n",
    "    print(\"Reprovado\", media)\n",
    "else:\n",
    "    print(\"Aprovado com distinção\", media)    "
   ]
  },
  {
   "cell_type": "code",
   "execution_count": 61,
   "id": "a63e33cc-55c7-4e4b-9682-602a4b46197b",
   "metadata": {},
   "outputs": [
    {
     "name": "stdin",
     "output_type": "stream",
     "text": [
      "Digite o 1º preço:  7\n",
      "Digite o 2º preço:  3\n",
      "Digite o 3º preço:  10\n"
     ]
    },
    {
     "name": "stdout",
     "output_type": "stream",
     "text": [
      "O produto de 3.0 reais, é o que mais compensa\n"
     ]
    }
   ],
   "source": [
    "#Faça um programa que pergunte o preço de três produtos e informe qual o produto você deve comprar, sabendo que a decisão é sempre pelo mais barato:\n",
    "\n",
    "prod1 = float(input(\"Digite o 1º preço: \"))\n",
    "prod2 = float(input(\"Digite o 2º preço: \"))\n",
    "prod3 = float(input(\"Digite o 3º preço: \"))\n",
    "valores = [prod1,prod2,prod3]\n",
    "\n",
    "barato = min(valores)\n",
    "print(\"O produto de\",barato,\"reais, é o que mais compensa\")"
   ]
  },
  {
   "cell_type": "code",
   "execution_count": null,
   "id": "41966244-4805-49e5-b02d-ce206e5a0f1b",
   "metadata": {},
   "outputs": [],
   "source": [
    "#Faça um programa que leia 3 números e mostre-os em ordem decrescente:\n",
    "\n",
    "num1 = int(input(\"Digite o 1º número: \"))\n",
    "num2 = int(input(\"Digite o 2º número: \"))\n",
    "num3 = int(input(\"Digite o 3º número: \"))\n",
    "numeros = [num1,num2,num3]\n",
    "\n",
    "numeros.sort(reverse=True)\n",
    "\n",
    "print(\"Esses são os números em ordem decrescente\n"
   ]
  }
 ],
 "metadata": {
  "kernelspec": {
   "display_name": "Python [conda env:base] *",
   "language": "python",
   "name": "conda-base-py"
  },
  "language_info": {
   "codemirror_mode": {
    "name": "ipython",
    "version": 3
   },
   "file_extension": ".py",
   "mimetype": "text/x-python",
   "name": "python",
   "nbconvert_exporter": "python",
   "pygments_lexer": "ipython3",
   "version": "3.12.7"
  }
 },
 "nbformat": 4,
 "nbformat_minor": 5
}
